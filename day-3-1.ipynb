{
 "cells": [
  {
   "cell_type": "code",
   "execution_count": 19,
   "id": "8fa4b717",
   "metadata": {},
   "outputs": [],
   "source": [
    "# 함수 : def 함수명 () : 코드를 정의\n",
    "def print_3_times():\n",
    "    print('Hello')\n",
    "    print('Hello')    \n",
    "    print('Hello')\n",
    "#함수의 매개변수\n",
    "def print_n_times(value,n):\n",
    "    for i in range(n):\n",
    "        print(value)\n",
    "        \n",
    "#함수의 가변 매개변수 : 가변 매개변수는 마지막에 나열함\n",
    "def print_v_times(n,*values): # (n, value, ...)\n",
    "    for i in range(n):\n",
    "        for value in values:\n",
    "            print(value)\n",
    "        print()\n",
    "#기본 매개변수 ( 매개변수의 값이 입력되지 않으면 기본 값을 처리)\n",
    "def print_b_times(value,n=2):\n",
    "    for i in range(n):\n",
    "        print(value)\n",
    "        \n",
    "#키워드 매개변수 (기본과 가변이 공존할 때, 기본을 키워드 매개변수라고함)\n",
    "#키워드 매개변수는 가변 매개변수 뒤에\n",
    "def print_key_times(*values,n=2):\n",
    "    for i in range(n):\n",
    "        for value in values:\n",
    "            print(value)\n",
    "        print()\n",
    "        \n",
    "#함수의 매개변수 : 일반, 기본, 가변\n",
    "#나열 순서는 가변, 기본 순서로"
   ]
  },
  {
   "cell_type": "code",
   "execution_count": 17,
   "id": "1026372e",
   "metadata": {},
   "outputs": [
    {
     "name": "stdout",
     "output_type": "stream",
     "text": [
      "Hello\n",
      "Hello\n",
      "Hello\n",
      "매개변수\n",
      "test\n",
      "test\n",
      "가변 매개변수\n",
      "test\n",
      "hello\n",
      "list\n",
      "\n",
      "test\n",
      "hello\n",
      "list\n",
      "\n",
      "기본 매개변수\n",
      "Hello!!\n",
      "Hello!!\n"
     ]
    }
   ],
   "source": [
    "print_3_times()\n",
    "print('매개변수')\n",
    "print_n_times('test',2)\n",
    "print('가변 매개변수')\n",
    "print_v_times(2,'test','hello','list')\n",
    "print('기본 매개변수')\n",
    "print_b_times('Hello!!') # n=2 가 실행됨"
   ]
  },
  {
   "cell_type": "code",
   "execution_count": 20,
   "id": "e3a7ee58",
   "metadata": {},
   "outputs": [
    {
     "name": "stdout",
     "output_type": "stream",
     "text": [
      "test\n",
      "123\n",
      "\n",
      "test\n",
      "123\n",
      "\n",
      "test\n",
      "123\n",
      "\n"
     ]
    }
   ],
   "source": [
    "print_key_times('test','123',n=3)"
   ]
  },
  {
   "cell_type": "code",
   "execution_count": 21,
   "id": "dd50101b",
   "metadata": {},
   "outputs": [],
   "source": [
    "# 기본 매개변수 활용\n",
    "def func_a(a,b=10,c=100):\n",
    "    print(a+b+c)"
   ]
  },
  {
   "cell_type": "code",
   "execution_count": 22,
   "id": "9aa92190",
   "metadata": {},
   "outputs": [
    {
     "name": "stdout",
     "output_type": "stream",
     "text": [
      "60\n",
      "220\n",
      "350\n",
      "240\n"
     ]
    }
   ],
   "source": [
    "func_a(10,20,30) # 10 + 20 + 30, 예 ).split(',')\n",
    "func_a(a=10,c=200) # 10 + 10 + 200\n",
    "func_a(c=200, a =100, b=50) # 100 + 50 + 200\n",
    "func_a(30, c=200) # 30 + 10 + 200"
   ]
  },
  {
   "cell_type": "code",
   "execution_count": 24,
   "id": "6f68d933",
   "metadata": {},
   "outputs": [
    {
     "name": "stdout",
     "output_type": "stream",
     "text": [
      "100\n"
     ]
    }
   ],
   "source": [
    "#return 이 있는 함수\n",
    "def return_func():\n",
    "    return 100\n",
    "    print('return_func exe') # 실행 안됨\n",
    "print(return_func()) # 100"
   ]
  },
  {
   "cell_type": "code",
   "execution_count": 25,
   "id": "bfb017c7",
   "metadata": {},
   "outputs": [
    {
     "name": "stdout",
     "output_type": "stream",
     "text": [
      "프로그램 종료\n"
     ]
    }
   ],
   "source": [
    "def comp_func(num1,buho,num2):\n",
    "# 계산식 출력\n",
    "    if buho == '+':\n",
    "        result = num1 + num2\n",
    "    elif buho == '-':\n",
    "        result = num1 - num2\n",
    "    elif buho == '*':\n",
    "        result = num1 * num2\n",
    "    else:\n",
    "        result = num1 / num2\n",
    "    print(\"{} {} {} = {}\".format(num1, buho, num2, result))\n",
    "\n",
    "print(\"프로그램 종료\")"
   ]
  },
  {
   "cell_type": "code",
   "execution_count": 27,
   "id": "e42956ec",
   "metadata": {},
   "outputs": [],
   "source": [
    "#문 이름과 성적을 입력받아 딕셔너리에 저장하는 함수 작성\n",
    "#검색하고자 하는 이름 입력\n",
    "#저장된 리스트의 성적을 출력 \n",
    "#입력함수,검색함수,결과출력\n",
    "def input_data():\n",
    "    student = {}\n",
    "    while True:\n",
    "        input_data\n",
    "def search_data(student):\n",
    "    search_name = input('검색할 이름 입력 : ')\n",
    "    for key in student:\n",
    "        if key == search_name:\n",
    "            return key\n",
    "    return"
   ]
  },
  {
   "cell_type": "code",
   "execution_count": 28,
   "id": "05e8af9e",
   "metadata": {},
   "outputs": [
    {
     "ename": "KeyboardInterrupt",
     "evalue": "",
     "output_type": "error",
     "traceback": [
      "\u001b[1;31m---------------------------------------------------------------------------\u001b[0m",
      "\u001b[1;31mKeyboardInterrupt\u001b[0m                         Traceback (most recent call last)",
      "\u001b[1;32m~\\AppData\\Local\\Temp/ipykernel_10524/364435361.py\u001b[0m in \u001b[0;36m<module>\u001b[1;34m\u001b[0m\n\u001b[1;32m----> 1\u001b[1;33m \u001b[0mstudent\u001b[0m \u001b[1;33m=\u001b[0m \u001b[0minput_data\u001b[0m\u001b[1;33m(\u001b[0m\u001b[1;33m)\u001b[0m\u001b[1;33m\u001b[0m\u001b[1;33m\u001b[0m\u001b[0m\n\u001b[0m\u001b[0;32m      2\u001b[0m \u001b[0mresult\u001b[0m \u001b[1;33m=\u001b[0m \u001b[0msearch_data\u001b[0m\u001b[1;33m(\u001b[0m\u001b[0mstudent\u001b[0m\u001b[1;33m)\u001b[0m\u001b[1;33m\u001b[0m\u001b[1;33m\u001b[0m\u001b[0m\n\u001b[0;32m      3\u001b[0m \u001b[1;32mif\u001b[0m \u001b[0mkey\u001b[0m\u001b[1;33m:\u001b[0m\u001b[1;33m\u001b[0m\u001b[1;33m\u001b[0m\u001b[0m\n\u001b[0;32m      4\u001b[0m     \u001b[0mprint\u001b[0m\u001b[1;33m(\u001b[0m\u001b[1;34m'{} : {} '\u001b[0m\u001b[1;33m.\u001b[0m\u001b[0mformat\u001b[0m\u001b[1;33m(\u001b[0m\u001b[0mkey\u001b[0m\u001b[1;33m,\u001b[0m\u001b[0mstudent\u001b[0m\u001b[1;33m[\u001b[0m\u001b[0mkey\u001b[0m\u001b[1;33m]\u001b[0m\u001b[1;33m)\u001b[0m\u001b[1;33m)\u001b[0m\u001b[1;33m\u001b[0m\u001b[1;33m\u001b[0m\u001b[0m\n\u001b[0;32m      5\u001b[0m \u001b[1;32melse\u001b[0m\u001b[1;33m:\u001b[0m\u001b[1;33m\u001b[0m\u001b[1;33m\u001b[0m\u001b[0m\n",
      "\u001b[1;32m~\\AppData\\Local\\Temp/ipykernel_10524/3537563815.py\u001b[0m in \u001b[0;36minput_data\u001b[1;34m()\u001b[0m\n\u001b[0;32m      6\u001b[0m     \u001b[0mstudent\u001b[0m \u001b[1;33m=\u001b[0m \u001b[1;33m{\u001b[0m\u001b[1;33m}\u001b[0m\u001b[1;33m\u001b[0m\u001b[1;33m\u001b[0m\u001b[0m\n\u001b[0;32m      7\u001b[0m     \u001b[1;32mwhile\u001b[0m \u001b[1;32mTrue\u001b[0m\u001b[1;33m:\u001b[0m\u001b[1;33m\u001b[0m\u001b[1;33m\u001b[0m\u001b[0m\n\u001b[1;32m----> 8\u001b[1;33m         \u001b[0minput_data\u001b[0m\u001b[1;33m\u001b[0m\u001b[1;33m\u001b[0m\u001b[0m\n\u001b[0m\u001b[0;32m      9\u001b[0m \u001b[1;32mdef\u001b[0m \u001b[0msearch_data\u001b[0m\u001b[1;33m(\u001b[0m\u001b[0mstudent\u001b[0m\u001b[1;33m)\u001b[0m\u001b[1;33m:\u001b[0m\u001b[1;33m\u001b[0m\u001b[1;33m\u001b[0m\u001b[0m\n\u001b[0;32m     10\u001b[0m     \u001b[0msearch_name\u001b[0m \u001b[1;33m=\u001b[0m \u001b[0minput\u001b[0m\u001b[1;33m(\u001b[0m\u001b[1;34m'검색할 이름 입력 : '\u001b[0m\u001b[1;33m)\u001b[0m\u001b[1;33m\u001b[0m\u001b[1;33m\u001b[0m\u001b[0m\n",
      "\u001b[1;31mKeyboardInterrupt\u001b[0m: "
     ]
    }
   ],
   "source": [
    "student = input_data()\n",
    "result = search_data(student)\n",
    "if key:\n",
    "    print('{} : {} '.format(key,student[key]))\n",
    "else:\n",
    "    print('검색하고자 하는 이름이 존재하지 않음')"
   ]
  },
  {
   "cell_type": "code",
   "execution_count": null,
   "id": "2e770fe1",
   "metadata": {},
   "outputs": [],
   "source": [
    "def input_data():\n",
    "    student = {}\n",
    "    while True:\n",
    "        input_data = input(\"이름 성적 입력 (종료는 'q'): \").split()\n",
    "        if input_data[0] == 'q':\n",
    "            break\n",
    "        elif len(input_data) < 2:\n",
    "            continue\n",
    "        elif not input_data[1].isdigit():\n",
    "            continue\n",
    "        student[input_data[0]] = int(input_data[1])\n",
    "    return student\n",
    "\n",
    "def search_data(student):\n",
    "    search_name = input(\"검색할 이름 입력 : \")\n",
    "    for key in student:\n",
    "        if key == search_name:\n",
    "            return key\n",
    "    return"
   ]
  },
  {
   "cell_type": "code",
   "execution_count": 29,
   "id": "e97225a6",
   "metadata": {},
   "outputs": [
    {
     "ename": "KeyboardInterrupt",
     "evalue": "",
     "output_type": "error",
     "traceback": [
      "\u001b[1;31m---------------------------------------------------------------------------\u001b[0m",
      "\u001b[1;31mKeyboardInterrupt\u001b[0m                         Traceback (most recent call last)",
      "\u001b[1;32m~\\AppData\\Local\\Temp/ipykernel_10524/2658518726.py\u001b[0m in \u001b[0;36m<module>\u001b[1;34m\u001b[0m\n\u001b[0;32m      3\u001b[0m \u001b[1;31m#저장된 리스트의 성적을 출력\u001b[0m\u001b[1;33m\u001b[0m\u001b[1;33m\u001b[0m\u001b[0m\n\u001b[0;32m      4\u001b[0m \u001b[1;31m#입력함수,검색함수,결과출력\u001b[0m\u001b[1;33m\u001b[0m\u001b[1;33m\u001b[0m\u001b[0m\n\u001b[1;32m----> 5\u001b[1;33m \u001b[0mstudent\u001b[0m \u001b[1;33m=\u001b[0m \u001b[0minput_data\u001b[0m\u001b[1;33m(\u001b[0m\u001b[1;33m)\u001b[0m\u001b[1;33m\u001b[0m\u001b[1;33m\u001b[0m\u001b[0m\n\u001b[0m\u001b[0;32m      6\u001b[0m \u001b[1;33m\u001b[0m\u001b[0m\n",
      "\u001b[1;32m~\\AppData\\Local\\Temp/ipykernel_10524/3537563815.py\u001b[0m in \u001b[0;36minput_data\u001b[1;34m()\u001b[0m\n\u001b[0;32m      6\u001b[0m     \u001b[0mstudent\u001b[0m \u001b[1;33m=\u001b[0m \u001b[1;33m{\u001b[0m\u001b[1;33m}\u001b[0m\u001b[1;33m\u001b[0m\u001b[1;33m\u001b[0m\u001b[0m\n\u001b[0;32m      7\u001b[0m     \u001b[1;32mwhile\u001b[0m \u001b[1;32mTrue\u001b[0m\u001b[1;33m:\u001b[0m\u001b[1;33m\u001b[0m\u001b[1;33m\u001b[0m\u001b[0m\n\u001b[1;32m----> 8\u001b[1;33m         \u001b[0minput_data\u001b[0m\u001b[1;33m\u001b[0m\u001b[1;33m\u001b[0m\u001b[0m\n\u001b[0m\u001b[0;32m      9\u001b[0m \u001b[1;32mdef\u001b[0m \u001b[0msearch_data\u001b[0m\u001b[1;33m(\u001b[0m\u001b[0mstudent\u001b[0m\u001b[1;33m)\u001b[0m\u001b[1;33m:\u001b[0m\u001b[1;33m\u001b[0m\u001b[1;33m\u001b[0m\u001b[0m\n\u001b[0;32m     10\u001b[0m     \u001b[0msearch_name\u001b[0m \u001b[1;33m=\u001b[0m \u001b[0minput\u001b[0m\u001b[1;33m(\u001b[0m\u001b[1;34m'검색할 이름 입력 : '\u001b[0m\u001b[1;33m)\u001b[0m\u001b[1;33m\u001b[0m\u001b[1;33m\u001b[0m\u001b[0m\n",
      "\u001b[1;31mKeyboardInterrupt\u001b[0m: "
     ]
    }
   ],
   "source": [
    "#문 이름과 성적을 입력받아 딕셔너리에 저장하는 함수 작성\n",
    "#검색하고자 하는 이름 입력\n",
    "#저장된 리스트의 성적을 출력 \n",
    "#입력함수,검색함수,결과출력\n",
    "student = input_data()\n",
    "\n"
   ]
  },
  {
   "cell_type": "code",
   "execution_count": null,
   "id": "24386f02",
   "metadata": {},
   "outputs": [],
   "source": [
    "#이름과 국어 영어 수학 점수를 입력받아 딕셔너리에 저장한 후\n",
    "# 키는 이름으로\n",
    "# 각 과목별 평균과 \n",
    "# 개인별 총점과 평균을 구해서 자료에 추가하세요\n",
    "# 마지막 결과 출력\n",
    "#student = {'홍길동':[90,80,80,250,83,3],\n",
    "#          '김철수':[88,66,77]\n",
    "#          }\n",
    "\n",
    "student = input_data()\n",
    "print(student)\n",
    "total = tatal_data(student)\n",
    "title_name = ['국어','영어','수학']\n",
    "\n",
    "for i in range(len(total)):\n",
    "    print(\"{} 총합 : {}, 평균 : {:3.2f}\".format(title_name[i],\n",
    "        sum(total[i]),\n",
    "        sum(total[i])/len(total)))\n",
    "student = input_update_data(student)\n",
    "print(student)"
   ]
  },
  {
   "cell_type": "code",
   "execution_count": null,
   "id": "4b41a9b3",
   "metadata": {},
   "outputs": [],
   "source": []
  }
 ],
 "metadata": {
  "kernelspec": {
   "display_name": "Python 3 (ipykernel)",
   "language": "python",
   "name": "python3"
  },
  "language_info": {
   "codemirror_mode": {
    "name": "ipython",
    "version": 3
   },
   "file_extension": ".py",
   "mimetype": "text/x-python",
   "name": "python",
   "nbconvert_exporter": "python",
   "pygments_lexer": "ipython3",
   "version": "3.9.7"
  }
 },
 "nbformat": 4,
 "nbformat_minor": 5
}
