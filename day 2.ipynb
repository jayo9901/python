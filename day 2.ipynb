{
 "cells": [
  {
   "cell_type": "code",
   "execution_count": 1,
   "id": "f1aaa4c6",
   "metadata": {},
   "outputs": [
    {
     "name": "stdout",
     "output_type": "stream",
     "text": [
      "True 실행\n"
     ]
    }
   ],
   "source": [
    "# if 표현식 : \n",
    "#    True인 경우 실행\n",
    "if True:\n",
    "    print(\"True 실행\")\n",
    "if False :\n",
    "    print(\"False 실행\")\n"
   ]
  },
  {
   "cell_type": "code",
   "execution_count": 5,
   "id": "9adfa259",
   "metadata": {},
   "outputs": [
    {
     "name": "stdout",
     "output_type": "stream",
     "text": [
      "숫자입력 : 4\n",
      "양수\n"
     ]
    }
   ],
   "source": [
    "#문 키보드에서 숫자를 입력 받아 양수이면 \"양수\"\n",
    "#  음수이면 \"음수\", 0이면 'zero'를 출력\n",
    "a = int(input(\"숫자입력 : \"))\n",
    "if a == 0 :\n",
    "    print('zero')\n",
    "elif a > 0 :\n",
    "    print('양수')\n",
    "else :\n",
    "    print('음수')"
   ]
  },
  {
   "cell_type": "code",
   "execution_count": 16,
   "id": "98dc23a2",
   "metadata": {},
   "outputs": [
    {
     "name": "stdout",
     "output_type": "stream",
     "text": [
      "10 + 30\n",
      "['10', '+', '30']\n",
      "10 + 30\n"
     ]
    }
   ],
   "source": [
    "#입력을 10 + 20의 형식으로 입력받아 두 수의 합을 구하세요\n",
    "#1. 변수에 데이터를 입력 합니다\n",
    "input_data1=input()\n",
    "#2. 입력 받은 데이터를 자릅니다\n",
    "input_data1=input_data1.split()\n",
    "print(input_data1)\n",
    "#3. 자른 데이터의 인덱스값으로 더합니다\n",
    "num1=input_data1[0]\n",
    "buho=input_data1[1]\n",
    "num2=input_data1[2]\n",
    "print(int(num1),buho,int(num2))"
   ]
  },
  {
   "cell_type": "code",
   "execution_count": 14,
   "id": "186fa7a6",
   "metadata": {},
   "outputs": [
    {
     "data": {
      "text/plain": [
       "40"
      ]
     },
     "execution_count": 14,
     "metadata": {},
     "output_type": "execute_result"
    }
   ],
   "source": [
    "int(input_data[0])+int(input_data[2])"
   ]
  },
  {
   "cell_type": "code",
   "execution_count": 17,
   "id": "9dc0532a",
   "metadata": {},
   "outputs": [
    {
     "name": "stdout",
     "output_type": "stream",
     "text": [
      "2022년 3월 7일 9시 50분 58초\n"
     ]
    }
   ],
   "source": [
    "#날짜와 시간을 구하는 모듈\n",
    "import datetime\n",
    "\n",
    "now = datetime.datetime.now()\n",
    "\n",
    "print(\"{}년 {}월 {}일 {}시 {}분 {}초\".format(now.year,now.month,now.day,now.hour,now.minute,now.second))"
   ]
  },
  {
   "cell_type": "code",
   "execution_count": 14,
   "id": "cdd13156",
   "metadata": {},
   "outputs": [
    {
     "name": "stdout",
     "output_type": "stream",
     "text": [
      "21\n",
      "홀수\n"
     ]
    }
   ],
   "source": [
    "# 입력 받은 숫자가 짝수인지 홀수인지 출력\n",
    "input_data2=input()\n",
    "if int(input_data2[-1])%2 == 0 :\n",
    "    print('짝수')\n",
    "else :\n",
    "    print('홀수')"
   ]
  },
  {
   "cell_type": "code",
   "execution_count": 27,
   "id": "293c6dfa",
   "metadata": {},
   "outputs": [
    {
     "name": "stdout",
     "output_type": "stream",
     "text": [
      "숫자입력 : 12\n",
      "입력받은 수 12는 짝수\n"
     ]
    }
   ],
   "source": [
    "# 문자 in 문자열 연산자를 사용 : 문자가 문자열에 있는지 확인\n",
    "num = input(\"숫자입력 : \")\n",
    "last_num = num[-1]\n",
    "\n",
    "if last_num in \"02468\" :\n",
    "    print(\"입력받은 수 {}는 짝수\".format(num))\n",
    "if last_num in \"13579\" :\n",
    "    print(\"입력받은 수 {}는 홀수\".format(num))"
   ]
  },
  {
   "cell_type": "code",
   "execution_count": 23,
   "id": "ffdcd63d",
   "metadata": {},
   "outputs": [],
   "source": [
    "#나머지 값으로 짝수, 홀수 구분"
   ]
  },
  {
   "cell_type": "code",
   "execution_count": 24,
   "id": "8cae82b5",
   "metadata": {},
   "outputs": [
    {
     "name": "stdout",
     "output_type": "stream",
     "text": [
      "입력 받은 수 34는 짝수\n"
     ]
    }
   ],
   "source": [
    "#if int(num) % 2 == 0 : \n",
    "if not(int(num)%2):\n",
    "    print(\"입력 받은 수 {}는 짝수\".format(num))\n",
    "if int(num)%2:\n",
    "    print(\"입력 받은 수 {}는 ,홀수\".format(num))"
   ]
  },
  {
   "cell_type": "code",
   "execution_count": 25,
   "id": "0df9227c",
   "metadata": {},
   "outputs": [
    {
     "ename": "NameError",
     "evalue": "name 'num' is not defined",
     "output_type": "error",
     "traceback": [
      "\u001b[1;31m---------------------------------------------------------------------------\u001b[0m",
      "\u001b[1;31mNameError\u001b[0m                                 Traceback (most recent call last)",
      "\u001b[1;32m~\\AppData\\Local\\Temp/ipykernel_10216/1899535284.py\u001b[0m in \u001b[0;36m<module>\u001b[1;34m\u001b[0m\n\u001b[0;32m      1\u001b[0m \u001b[1;31m#if ~else 구문으로 변경\u001b[0m\u001b[1;33m\u001b[0m\u001b[1;33m\u001b[0m\u001b[0m\n\u001b[1;32m----> 2\u001b[1;33m \u001b[1;32mif\u001b[0m \u001b[0mint\u001b[0m\u001b[1;33m(\u001b[0m\u001b[0mnum\u001b[0m\u001b[1;33m)\u001b[0m \u001b[1;33m%\u001b[0m \u001b[1;36m2\u001b[0m \u001b[1;33m==\u001b[0m\u001b[1;36m0\u001b[0m\u001b[1;33m:\u001b[0m\u001b[1;33m\u001b[0m\u001b[1;33m\u001b[0m\u001b[0m\n\u001b[0m\u001b[0;32m      3\u001b[0m      \u001b[0mprint\u001b[0m\u001b[1;33m(\u001b[0m\u001b[1;34m\"입력 받은 수 {}는 짝수\"\u001b[0m\u001b[1;33m.\u001b[0m\u001b[0mformat\u001b[0m\u001b[1;33m(\u001b[0m\u001b[0mnum\u001b[0m\u001b[1;33m)\u001b[0m\u001b[1;33m)\u001b[0m\u001b[1;33m\u001b[0m\u001b[1;33m\u001b[0m\u001b[0m\n\u001b[0;32m      4\u001b[0m \u001b[1;32melse\u001b[0m \u001b[1;33m:\u001b[0m\u001b[1;33m\u001b[0m\u001b[1;33m\u001b[0m\u001b[0m\n\u001b[0;32m      5\u001b[0m     \u001b[0mprint\u001b[0m\u001b[1;33m(\u001b[0m\u001b[1;34m\"입력 받은 수 {}는 홀수\"\u001b[0m\u001b[1;33m.\u001b[0m\u001b[0mformat\u001b[0m\u001b[1;33m(\u001b[0m\u001b[0mnum\u001b[0m\u001b[1;33m)\u001b[0m\u001b[1;33m)\u001b[0m\u001b[1;33m\u001b[0m\u001b[1;33m\u001b[0m\u001b[0m\n",
      "\u001b[1;31mNameError\u001b[0m: name 'num' is not defined"
     ]
    }
   ],
   "source": [
    "#if ~else 구문으로 변경\n",
    "if int(num) % 2 ==0:\n",
    "     print(\"입력 받은 수 {}는 짝수\".format(num))\n",
    "else :\n",
    "    print(\"입력 받은 수 {}는 홀수\".format(num))"
   ]
  },
  {
   "cell_type": "code",
   "execution_count": 11,
   "id": "984b3f9a",
   "metadata": {},
   "outputs": [
    {
     "name": "stdout",
     "output_type": "stream",
     "text": [
      "숫자 부호 숫자 : 20 + 40\n",
      "60\n"
     ]
    }
   ],
   "source": [
    "#문 키보드에서 숫자와 부호를 입력받아 변수에 저장한 후 \n",
    "#기호에 따라 두수의\n",
    "#계산 결과를 출력하세요\n",
    "# 1. 숫자입력, 부호입력, 숫자입력\n",
    "# 2. 부호가 '+' 합을, \"-\"이면 차를, \"*\"곱을 \"/\"이면 나눈값을 출력\n",
    "input_data = input('숫자 부호 숫자 : ').split()\n",
    "num1 = input_data[0]\n",
    "buho = input_data[1]\n",
    "num2 = input_data[2]\n",
    "\n",
    "if buho == '+' : \n",
    "    print(int(num1)+int(num2))\n",
    "elif buho == '-' :\n",
    "    print(int(num1)-int(num2))\n",
    "elif buho == '*' :    \n",
    "    print(int(num1)*int(num2))\n",
    "elif buho == '/' :    \n",
    "    print(int(num1)/int(num2))"
   ]
  },
  {
   "cell_type": "code",
   "execution_count": 34,
   "id": "4c9e1e98",
   "metadata": {},
   "outputs": [
    {
     "data": {
      "text/plain": [
       "['10', '*', '3']"
      ]
     },
     "execution_count": 34,
     "metadata": {},
     "output_type": "execute_result"
    }
   ],
   "source": [
    "input_data\n",
    "#pass if값 입력하는걸 보류"
   ]
  },
  {
   "cell_type": "code",
   "execution_count": 13,
   "id": "3904bbf0",
   "metadata": {},
   "outputs": [
    {
     "name": "stdout",
     "output_type": "stream",
     "text": [
      "1\n",
      "[3, 4]\n",
      "[1, 2, 3, 4, 5, 6, 11, 12, 13]\n"
     ]
    }
   ],
   "source": [
    "#list => 여러 개의 자료가 저장된 오브젝트\n",
    "a_list = [1,2,3,4,5,6]\n",
    "b_list = [11,12,13]\n",
    "print(a_list[0])\n",
    "print(a_list[2:4]) #3,4\n",
    "print(a_list + b_list) #[1,2,3,4,5,6,11,12,13]"
   ]
  },
  {
   "cell_type": "code",
   "execution_count": 37,
   "id": "fbdec01e",
   "metadata": {},
   "outputs": [
    {
     "data": {
      "text/plain": [
       "[1, 2, 3, 4, 5, 6, [11, 12, 13]]"
      ]
     },
     "execution_count": 37,
     "metadata": {},
     "output_type": "execute_result"
    }
   ],
   "source": [
    "# append() : list의 마지막에 자료 추가\n",
    "a_list.append(b_list)\n",
    "# a_list = [1,2,3,4,5,6,[11,12,13]]\n",
    "a_list"
   ]
  },
  {
   "cell_type": "code",
   "execution_count": 31,
   "id": "e0baf5d8",
   "metadata": {},
   "outputs": [
    {
     "name": "stdout",
     "output_type": "stream",
     "text": [
      "[1, 2, 3, 4, 5, 6, [7, 8, 9], 'test']\n",
      "[1, 2, 3, 4, 5, 6]\n",
      "[1, 2, 3, 4, 5, 6, [7, 8, 9]]\n"
     ]
    }
   ],
   "source": [
    "a_list.append('test')\n",
    "\n",
    "print(a_list)\n",
    "\n",
    "a_list = [1,2,3,4,5,6]\n",
    "print(a_list)\n",
    "b_list = [7,8,9]\n",
    "a_list.append(b_list)\n",
    "print(a_list)"
   ]
  },
  {
   "cell_type": "code",
   "execution_count": 40,
   "id": "145affa7",
   "metadata": {},
   "outputs": [
    {
     "data": {
      "text/plain": [
       "['삽입', 1, 2, 3, 4, 5, 6, [11, 12, 13], 'test', 'test']"
      ]
     },
     "execution_count": 40,
     "metadata": {},
     "output_type": "execute_result"
    }
   ],
   "source": [
    "#insert(위치,값): 해당하는 위치에 값을 추가\n",
    "a_list.insert(0,'삽입')\n",
    "a_list"
   ]
  },
  {
   "cell_type": "code",
   "execution_count": 42,
   "id": "2e823127",
   "metadata": {},
   "outputs": [
    {
     "name": "stdout",
     "output_type": "stream",
     "text": [
      "[1, 2, 3, 4, 5, 6]\n",
      "a_list.extend : [1, 2, 3, 4, 5, 6]\n"
     ]
    }
   ],
   "source": [
    "a_list = [1,2,3]\n",
    "b_list = [4,5,6]\n",
    "print(a_list + b_list) # => 결과는 출력, a_list의 값을 변경하지 ㅇ낳음\n",
    "\n",
    "#a_list에 각 요소의 자료를 리스트의 요소로 추가 후 a_list의 값을 변경\n",
    "# 리스트.extend(리스트)\n",
    "a_list.extend(b_list)\n",
    "print(\"a_list.extend :\",a_list)"
   ]
  },
  {
   "cell_type": "code",
   "execution_count": 61,
   "id": "ece9f5f6",
   "metadata": {},
   "outputs": [
    {
     "name": "stdout",
     "output_type": "stream",
     "text": [
      "[2, 3, 4, 5, 6]\n",
      "[1, 2, 3, 4, 5]\n",
      "[1, 2, 6]\n",
      "[1, 3, 4, 5, 6]\n",
      "[]\n"
     ]
    }
   ],
   "source": [
    "# 리스트 요소 삽입 : list.append(),list.insert(),list.extend()\n",
    "# 리스트의 요소 제거 : del(),list.pop(삭제할 인덱스)\n",
    "a_list = [1,2,3,4,5,6]\n",
    "a_list.pop(0)\n",
    "print(a_list)\n",
    "\n",
    "a_list = [1,2,3,4,5,6]\n",
    "del a_list[5]\n",
    "print(a_list)\n",
    "\n",
    "a_list = [1,2,3,4,5,6]\n",
    "del a_list[2:5]\n",
    "print(a_list)\n",
    "\n",
    "#요소의 값으로 제거 : 리스트.remove(값)\n",
    "a_list = [1,2,3,4,5,6]\n",
    "a_list.remove(2) #리스트에서 '2' 제거\n",
    "print(a_list)\n",
    "\n",
    "#모두 제거하기 : 리스트.clear()\n",
    "a_list = [1,2,3,4,5,6]\n",
    "a_list.clear()\n",
    "print(a_list)"
   ]
  },
  {
   "cell_type": "code",
   "execution_count": 66,
   "id": "879f2d57",
   "metadata": {},
   "outputs": [
    {
     "name": "stdout",
     "output_type": "stream",
     "text": [
      "True\n"
     ]
    },
    {
     "data": {
      "text/plain": [
       "False"
      ]
     },
     "execution_count": 66,
     "metadata": {},
     "output_type": "execute_result"
    }
   ],
   "source": [
    "#리스트 내부에 요소가 있는 지 확인 : 값 in 리스트\n",
    "a_list = [23,56,78,45]\n",
    "print(78 in a_list)\n",
    "in a_ilst"
   ]
  },
  {
   "cell_type": "code",
   "execution_count": 70,
   "id": "b7746a81",
   "metadata": {},
   "outputs": [
    {
     "name": "stdout",
     "output_type": "stream",
     "text": [
      "23\n",
      "56\n",
      "78\n",
      "45\n",
      "h  e  l  l  o     w  e  l  c  o  m  e  !  !  \n",
      "0\n",
      "1\n",
      "2\n",
      "3\n",
      "4\n"
     ]
    }
   ],
   "source": [
    "# 반복문 : for 요소 in 반복자료\n",
    "for item in a_list:\n",
    "    print(item)\n",
    "    \n",
    "for char in 'hello welcome!!':\n",
    "    print(char,end=\"  \")\n",
    "print()\n",
    "\n",
    "# range() 함수 : 0부터 숫자 전까지의 값을 반환\n",
    "for i in range(5):\n",
    "    print(i)"
   ]
  },
  {
   "cell_type": "code",
   "execution_count": 78,
   "id": "0b0e5a23",
   "metadata": {},
   "outputs": [
    {
     "name": "stdout",
     "output_type": "stream",
     "text": [
      "숫자 5개 입력 : 2,4,5,6,7\n",
      "['2', '4', '5', '6', '7']\n",
      "24\n"
     ]
    }
   ],
   "source": [
    "#키보드에서 숫자 5개를 입력받아 리스트에 저장한 후\n",
    "#입력된 수의 합을 구하세요\n",
    "\n",
    "JY = input(\"숫자 5개 입력 : \").split(',')\n",
    "print(JY)\n",
    "total = 0\n",
    "for num in JY:\n",
    "    total += int(num)\n",
    "    \n",
    "print(total)"
   ]
  },
  {
   "cell_type": "code",
   "execution_count": 98,
   "id": "b134f8e2",
   "metadata": {},
   "outputs": [
    {
     "name": "stdout",
     "output_type": "stream",
     "text": [
      "1\n",
      "2\n",
      "3\n",
      "4\n",
      "5\n",
      "6\n",
      "7\n",
      "8\n",
      "9\n"
     ]
    }
   ],
   "source": [
    "#159p 연습문제 4번\n",
    "list_of_list=[[1,2,3],[4,5,6,7],[8,9]]\n",
    "for element in list_of_list:\n",
    "    for item in element:\n",
    "        print(item)"
   ]
  },
  {
   "cell_type": "code",
   "execution_count": null,
   "id": "480bbab9",
   "metadata": {},
   "outputs": [],
   "source": []
  },
  {
   "cell_type": "code",
   "execution_count": 83,
   "id": "74fb4579",
   "metadata": {},
   "outputs": [
    {
     "name": "stdout",
     "output_type": "stream",
     "text": [
      "1\n",
      "2\n",
      "3\n",
      "4\n",
      "5\n",
      "6\n",
      "7\n",
      "8\n",
      "9\n"
     ]
    }
   ],
   "source": [
    "#답안\n",
    "list_of_list=[[1,2,3],[4,5,6,7],[8,9]]\n",
    "for element in list_of_list:\n",
    "    for item in element:\n",
    "        print(item)"
   ]
  },
  {
   "cell_type": "code",
   "execution_count": 93,
   "id": "4177d0fc",
   "metadata": {},
   "outputs": [
    {
     "name": "stdout",
     "output_type": "stream",
     "text": [
      "[[1, 4, 7], [2, 5, 8], [3, 6, 9]]\n"
     ]
    }
   ],
   "source": [
    "#연습문제 5\n",
    "numbers = [1,2,3,4,5,6,7,8,9]\n",
    "output = [[],[],[]] # [[1,4,7],[2,5,8],[3,6,9]]\n",
    "                    # 3으로 나눈 나머지 값으로 그룹\n",
    "for number in numbers:\n",
    "    index = number%3 - 1\n",
    "    output[number%3 - 1].append(number)\n",
    "    \n",
    "print(output)\n"
   ]
  },
  {
   "cell_type": "code",
   "execution_count": 99,
   "id": "52bdf6ce",
   "metadata": {},
   "outputs": [
    {
     "name": "stdout",
     "output_type": "stream",
     "text": [
      "어벤저스 엔드게임\n",
      "엔드게임\n"
     ]
    }
   ],
   "source": [
    "#딕셔너리 : 키와 값으로 구성된 자료형\n",
    "#dict_a = {키:값,키1:값1,...}\n",
    "#dict_a[키] -> 값을 가져옴\n",
    "dict_a = {'name':'어벤저스 엔드게임','type':'히어로 무비'}\n",
    "#name의 값 '어벤저스 엔드게임'을 출력\n",
    "print(dict_a['name'])\n",
    "print(dict_a['name'][5:])"
   ]
  },
  {
   "cell_type": "code",
   "execution_count": 107,
   "id": "12010502",
   "metadata": {},
   "outputs": [
    {
     "name": "stdout",
     "output_type": "stream",
     "text": [
      "조루소\n",
      "아이언맨\n",
      "타노스\n",
      "토르\n",
      "닥터스트레인지\n",
      "헐크\n"
     ]
    }
   ],
   "source": [
    "#딕셔너리의 값이 리스트\n",
    "dict_b = {'director':['안소니 루소','조루소'],\n",
    "         'cast':['아이언맨','타노스','토르','닥터스트레인지','헐크']}\n",
    "print(dict_b['director'][1]) #조루소 출력\n",
    "#cast 명을 모두 출력\n",
    "#아이언맨\n",
    "#타노스\n",
    "#...\n",
    "for item in dict_b['cast']:\n",
    "    print(item)"
   ]
  },
  {
   "cell_type": "code",
   "execution_count": 108,
   "id": "ffeb91f6",
   "metadata": {},
   "outputs": [
    {
     "name": "stdout",
     "output_type": "stream",
     "text": [
      "안소니 루소\t조루소\t\n",
      "아이언맨\t타노스\t토르\t닥터스트레인지\t헐크\t\n"
     ]
    }
   ],
   "source": [
    "#안소니 루소 \\t 조루소\n",
    "#아이언맨\\t 타노스\\t ..헐크\\n\n",
    "for key in dict_b :\n",
    "    for item in dict_b[key]:\n",
    "        print(item,end='\\t')\n",
    "    print()"
   ]
  },
  {
   "cell_type": "code",
   "execution_count": 109,
   "id": "23bf5133",
   "metadata": {},
   "outputs": [],
   "source": [
    "#dict에 값 추가 : dict[새로운 키] = 새로운 값\n",
    "dict_b['money'] =[100,200,300]"
   ]
  },
  {
   "cell_type": "code",
   "execution_count": 113,
   "id": "8eb3db6e",
   "metadata": {},
   "outputs": [
    {
     "name": "stdout",
     "output_type": "stream",
     "text": [
      "{'director': ['안소니 루소', '조루소'], 'cast': ['아이언맨', '타노스', '토르', '닥터스트레인지', '헐크']}\n",
      "{'director': ['안소니 루소', '조루소'], 'cast': ['아이언맨', '타노스', '토르', '닥터스트레인지', '헐크']}\n"
     ]
    }
   ],
   "source": [
    "print(dict_b)\n",
    "\n",
    "#값 제거 : del dict[키]\n",
    "dict_b['money'] =[100,200,300]\n",
    "del dict_b['money']\n",
    "print(dict_b)"
   ]
  },
  {
   "cell_type": "code",
   "execution_count": 114,
   "id": "a77e918f",
   "metadata": {},
   "outputs": [
    {
     "data": {
      "text/plain": [
       "False"
      ]
     },
     "execution_count": 114,
     "metadata": {},
     "output_type": "execute_result"
    }
   ],
   "source": [
    "# dict_b['money']\n",
    "'money'in dict_b"
   ]
  },
  {
   "cell_type": "code",
   "execution_count": 116,
   "id": "ae6742da",
   "metadata": {},
   "outputs": [],
   "source": [
    "dict_c = {'name':'7D 건조 망고','type':'당절임',\n",
    "         'ingredient':['망고','설탕','메타중아황산나트륨','치자황색소'],\n",
    "         'origin':'필리핀'}"
   ]
  },
  {
   "cell_type": "code",
   "execution_count": 117,
   "id": "0f0d0cec",
   "metadata": {},
   "outputs": [
    {
     "name": "stdout",
     "output_type": "stream",
     "text": [
      "key 입력2222\n",
      "키 입력 오류\n"
     ]
    }
   ],
   "source": [
    "key = input('key 입력')\n",
    "if key in dict_c:\n",
    "    print(dict_c[key])\n",
    "else:\n",
    "    print('키 입력 오류')"
   ]
  },
  {
   "cell_type": "code",
   "execution_count": 120,
   "id": "2e6f7b01",
   "metadata": {},
   "outputs": [
    {
     "name": "stdout",
     "output_type": "stream",
     "text": [
      "값: None\n",
      "key error\n"
     ]
    }
   ],
   "source": [
    "#get(키) -> 딕셔너리의 값을 반환, 없으면 None을 반환\n",
    "value = dict_c.get(key)\n",
    "print('값:',value)\n",
    "if value:\n",
    "    print(dict_c[key])\n",
    "else:\n",
    "    print('key error')"
   ]
  },
  {
   "cell_type": "code",
   "execution_count": 129,
   "id": "9f03d3b9",
   "metadata": {},
   "outputs": [
    {
     "name": "stdout",
     "output_type": "stream",
     "text": [
      "dict_values(['7D 건조 망고', '당절임', ['망고', '설탕', '메타중아황산나트륨', '치자황색소'], '필리핀'])\n",
      "dict_items([('name', '7D 건조 망고'), ('type', '당절임'), ('ingredient', ['망고', '설탕', '메타중아황산나트륨', '치자황색소']), ('origin', '필리핀')])\n",
      "dict_keys(['name', 'type', 'ingredient', 'origin'])\n"
     ]
    }
   ],
   "source": [
    "dict_c = {'name':'7D 건조 망고','type':'당절임',\n",
    "         'ingredient':['망고','설탕','메타중아황산나트륨','치자황색소'],\n",
    "         'origin':'필리핀'}\n",
    "print(dict_c.values())\n",
    "print(dict_c.items())\n",
    "print(dict_c.keys())"
   ]
  },
  {
   "cell_type": "code",
   "execution_count": 127,
   "id": "4532abb5",
   "metadata": {},
   "outputs": [
    {
     "name": "stdout",
     "output_type": "stream",
     "text": [
      "name:7D 건조 망고\n",
      "type:당절임\n",
      "ingredient:['망고', '설탕', '메타중아황산나트륨', '치자황색소']\n",
      "origin:필리핀\n",
      "\n",
      "7D 건조 망고\n",
      "당절임\n",
      "['망고', '설탕', '메타중아황산나트륨', '치자황색소']\n",
      "필리핀\n"
     ]
    }
   ],
   "source": [
    "for key, value in dict_c.items():\n",
    "    print('{}:{}'.format(key,value))\n",
    "    \n",
    "print()\n",
    "for key in dict_c:\n",
    "    print(dict_c.get(key))"
   ]
  },
  {
   "cell_type": "code",
   "execution_count": 128,
   "id": "05411a3f",
   "metadata": {},
   "outputs": [],
   "source": [
    "#for key in dict_data:\n",
    "#    코드"
   ]
  },
  {
   "cell_type": "code",
   "execution_count": 135,
   "id": "afbfa462",
   "metadata": {},
   "outputs": [
    {
     "name": "stdout",
     "output_type": "stream",
     "text": [
      "7D 건조 망고\n"
     ]
    }
   ],
   "source": [
    "dict_c = {'name':'7D 건조 망고','type':'당절임',\n",
    "         'ingredient':['망고','설탕','메타중아황산나트륨','치자황색소'],\n",
    "         'origin':'필리핀'}\n",
    "#각 자료의 데이터 타입을 출력\n",
    "#1. 딕서너리의 자료를 하나씩 가져온다\n",
    "print(dict_c.values())\n",
    "print(dict_c.items())\n",
    "print(dict_c.keys())\n",
    "#2. 가져온 자료의 데이터 타입을 출력한다\n",
    "#3. 자료의 타입이 리스트이면 리스트의 각 요소를 가져온다\n",
    "#4. 가져온 리스트의 요소를 출력한다 *****강사님은 스킵\n",
    "for key,value in dict_c.items():\n",
    "    print(type(value))\n",
    "#데이터 타입이 리스트이면 리스트의 각 요소를 출력\n",
    "for key, value in dict_c.items():\n",
    "    if type(value) == list:\n",
    "        for item in value:\n",
    "            print(item)"
   ]
  },
  {
   "cell_type": "code",
   "execution_count": 145,
   "id": "5f7c48bd",
   "metadata": {},
   "outputs": [
    {
     "name": "stdout",
     "output_type": "stream",
     "text": [
      "#우리 동네 애완 동물들\n",
      "구름5살\n",
      "초코3살\n",
      "아지1살\n",
      "호랑이1살\n"
     ]
    }
   ],
   "source": [
    "#171p 2번 문제\n",
    "pets = [\n",
    "    {'name':'구름','age':5},\n",
    "    {'name':'초코','age':3},\n",
    "    {'name':'아지','age':1},\n",
    "    {'name':'호랑이','age':1}]\n",
    "print('#우리 동네 애완 동물들')\n",
    "for item in pets:\n",
    "    for key,value in item.items():\n",
    "        print(\"{}\".format(value),end=\"\")\n",
    "    print('살',end='\\n')"
   ]
  },
  {
   "cell_type": "code",
   "execution_count": 146,
   "id": "39d92eeb",
   "metadata": {},
   "outputs": [
    {
     "name": "stdout",
     "output_type": "stream",
     "text": [
      "{2: 3, 3: 5, 5: 6, 1: 1, 6: 2, 4: 3, 7: 3, 8: 2, 9: 2, 0: 1}\n"
     ]
    }
   ],
   "source": [
    "#172p 3번 문제\n",
    "numbers = [2,3,5,1,2,5,6,4,7,8,3,4,5,6,8,9,5,0,3,4,5,7,3,7,5,9,2,3]\n",
    "counter = {}\n",
    "#리스트의 데이터를 가져옴 : 1\n",
    "for number in numbers:\n",
    "    #1(number)이 딕셔너리의 키의 값에 있는지 확인\n",
    "    if number in counter:\n",
    "        #있으면 다음 자료 가져옴\n",
    "        pass\n",
    "    else:\n",
    "        #없으면 숫자의 갯수를 구함, 딕셔너리에 추가\n",
    "        count=0\n",
    "        for check_num in numbers:\n",
    "            if number == check_num:\n",
    "                count += 1\n",
    "            counter[number] = count\n",
    "print(counter)\n",
    "\n"
   ]
  },
  {
   "cell_type": "code",
   "execution_count": 149,
   "id": "3b9751c5",
   "metadata": {},
   "outputs": [
    {
     "name": "stdout",
     "output_type": "stream",
     "text": [
      "name: : 기사\n",
      "level : 12\n",
      "swprd : 불꽃의 검\n",
      "armor : 풀플레이트\n",
      "skill : 베기\n",
      "skill : 세게 베기\n",
      "skill : 아주 세게 베기\n"
     ]
    }
   ],
   "source": [
    "character={'name:':'기사',\n",
    "          'level':12,\n",
    "          'items':{\n",
    "              'swprd':'불꽃의 검',\n",
    "              'armor':'풀플레이트'\n",
    "          },\n",
    "          'skill':['베기','세게 베기','아주 세게 베기']}\n",
    "\n",
    "for key,value in character.items():\n",
    "    if type(value) == str or type(value) == int:\n",
    "        print(key, ':',value)\n",
    "    elif type(value) == list:\n",
    "        for item in value:\n",
    "            print(key,':',item)\n",
    "    else:\n",
    "        for item_key, item_value in value.items():\n",
    "            print(item_key,':',item_value)\n",
    "    "
   ]
  },
  {
   "cell_type": "code",
   "execution_count": 151,
   "id": "75621c70",
   "metadata": {},
   "outputs": [
    {
     "name": "stdout",
     "output_type": "stream",
     "text": [
      "0:40\n",
      "1:50\n",
      "2:60\n",
      "3:70\n"
     ]
    }
   ],
   "source": [
    "# for와 range()  함수 사용하기\n",
    "array = [40,50,60,70]\n",
    "\n",
    "total = 0\n",
    "for i in range(len(array)):\n",
    "    print(\"{}:{}\".format(i,array[i]))\n",
    "print(\"total :\",total)\n",
    "\n",
    "for i in reverse(range(len(array))):\n",
    "    print(\"{}:{}\".format(i,array[i]))\n",
    "for i in range(1,10,2):\n",
    "    print(i)\n",
    "\n",
    "    "
   ]
  },
  {
   "cell_type": "code",
   "execution_count": 152,
   "id": "40cd8a96",
   "metadata": {},
   "outputs": [
    {
     "name": "stdout",
     "output_type": "stream",
     "text": [
      "임의의 숫자 여러개 입력2 4 6 3 2\n",
      "num_list : [2, 4, 6, 3, 2]\n",
      "입력받은 자료의 총합은 : 17\n"
     ]
    }
   ],
   "source": [
    "#키보드에서 임의의 숫자 여러개를 입력받아 리스트에 저장한 후 \n",
    "#저장된 숫자의 총합을 구하세요\n",
    "#1.키보드에서 임의의 숫자 여러개를 입력\n",
    "input_data = input('임의의 숫자 여러개 입력').split()\n",
    "#2.입력받은 자료를 리스트에 저장\n",
    "num_list = []\n",
    "for item in input_data:\n",
    "    num_list.append(int(item))\n",
    "print('num_list :',num_list)\n",
    "#3. 저장된 자료의 합을 구함\n",
    "total = 0\n",
    "for num in num_list:\n",
    "    total += num\n",
    "print('입력받은 자료의 총합은 :',total)"
   ]
  },
  {
   "cell_type": "code",
   "execution_count": 153,
   "id": "afdbcd03",
   "metadata": {},
   "outputs": [
    {
     "name": "stdout",
     "output_type": "stream",
     "text": [
      "이름 : 10\n",
      "성적 : 10\n"
     ]
    }
   ],
   "source": [
    "# 문 키보드에서 이름과 성적을 입력받아 딕셔너리에 저장 (총 10명)\n",
    "# 이름이 딕셔너리의 키로 점수가 딕셔너리의 값으로 저장\n",
    "# 총인원수, 평균을 구하세요\n",
    "#1.키보드에서 이름을 입력 받습니다.\n",
    "student_n = input(\"이름 : \")\n",
    "#2.키버드에서 성적을 입력 받습니다.\n",
    "student_g = input(\"성적 : \")\n",
    "#3.이름과 성적을 딕셔너리에 저장"
   ]
  },
  {
   "cell_type": "code",
   "execution_count": 164,
   "id": "4a4b4f7c",
   "metadata": {},
   "outputs": [
    {
     "name": "stdout",
     "output_type": "stream",
     "text": [
      "이름 성적 입력A 10\n",
      "이름 성적 입력B 20\n",
      "이름 성적 입력C 30\n",
      "이름 성적 입력D 40\n",
      "이름 성적 입력E 50\n",
      "이름 성적 입력F 20\n",
      "이름 성적 입력G 10\n",
      "이름 성적 입력H 80\n",
      "이름 성적 입력I 90\n",
      "이름 성적 입력J 60\n"
     ]
    }
   ],
   "source": [
    "# 문 키보드에서 이름과 성적을 입력받아 딕셔너리에 저장 (총 10명)\n",
    "# 이름이 딕셔너리의 키로 점수가 딕셔너리의 값으로 저장\n",
    "# 총인원수, 평균을 구하세요\n",
    "\n",
    "score_dict = {}\n",
    "for i in range(10):\n",
    "    input_data = input('이름 성적 입력').split()\n",
    "    name = input_data[0]\n",
    "    score = int(input_data[1])\n",
    "    score_dict[name] = score\n"
   ]
  },
  {
   "cell_type": "code",
   "execution_count": 167,
   "id": "7a1d31aa",
   "metadata": {},
   "outputs": [
    {
     "ename": "SyntaxError",
     "evalue": "invalid syntax (Temp/ipykernel_12232/3111317547.py, line 3)",
     "output_type": "error",
     "traceback": [
      "\u001b[1;36m  File \u001b[1;32m\"C:\\Users\\YGL\\AppData\\Local\\Temp/ipykernel_12232/3111317547.py\"\u001b[1;36m, line \u001b[1;32m3\u001b[0m\n\u001b[1;33m    total +=\u001b[0m\n\u001b[1;37m            ^\u001b[0m\n\u001b[1;31mSyntaxError\u001b[0m\u001b[1;31m:\u001b[0m invalid syntax\n"
     ]
    }
   ],
   "source": [
    "\n",
    "total = 0\n",
    "for score in score_dict :\n",
    "    total +="
   ]
  },
  {
   "cell_type": "code",
   "execution_count": 168,
   "id": "8eb0c00b",
   "metadata": {},
   "outputs": [
    {
     "name": "stdout",
     "output_type": "stream",
     "text": [
      "총 인원수 : 10, 평균 : 41.00\n"
     ]
    }
   ],
   "source": [
    "#성적의 평균 , 인원수\n",
    "total = 0\n",
    "count = 0\n",
    "for key in score_dict:\n",
    "    total += score_dict[key]\n",
    "    count += 1\n",
    "print('총 인원수 : {}, 평균 : {:3.2f}'.format(count,total/count))"
   ]
  },
  {
   "cell_type": "code",
   "execution_count": null,
   "id": "9ccf4b1f",
   "metadata": {},
   "outputs": [],
   "source": []
  }
 ],
 "metadata": {
  "kernelspec": {
   "display_name": "Python 3 (ipykernel)",
   "language": "python",
   "name": "python3"
  },
  "language_info": {
   "codemirror_mode": {
    "name": "ipython",
    "version": 3
   },
   "file_extension": ".py",
   "mimetype": "text/x-python",
   "name": "python",
   "nbconvert_exporter": "python",
   "pygments_lexer": "ipython3",
   "version": "3.9.7"
  }
 },
 "nbformat": 4,
 "nbformat_minor": 5
}
