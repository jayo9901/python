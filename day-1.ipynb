{
 "cells": [
  {
   "cell_type": "markdown",
   "id": "ae92a1b2",
   "metadata": {},
   "source": [
    "cell"
   ]
  },
  {
   "cell_type": "code",
   "execution_count": 1,
   "id": "13ae2b68",
   "metadata": {},
   "outputs": [],
   "source": [
    "a=0\n",
    "b=20\n"
   ]
  },
  {
   "cell_type": "code",
   "execution_count": 3,
   "id": "506d1452",
   "metadata": {},
   "outputs": [
    {
     "name": "stdout",
     "output_type": "stream",
     "text": [
      "['False', 'None', 'True', '__peg_parser__', 'and', 'as', 'assert', 'async', 'await', 'break', 'class', 'continue', 'def', 'del', 'elif', 'else', 'except', 'finally', 'for', 'from', 'global', 'if', 'import', 'in', 'is', 'lambda', 'nonlocal', 'not', 'or', 'pass', 'raise', 'return', 'try', 'while', 'with', 'yield']\n"
     ]
    }
   ],
   "source": [
    "# 키워드 확인\n",
    "import keyword\n",
    "\n",
    "print(keyword.kwlist)\n",
    "keyword."
   ]
  },
  {
   "cell_type": "code",
   "execution_count": 1,
   "id": "9efcfdea",
   "metadata": {},
   "outputs": [
    {
     "name": "stdout",
     "output_type": "stream",
     "text": [
      "# 하나만 출력 \n",
      "Hello python Programming!!\n",
      "'이러면 됩니다'\n",
      "10 20 test\n",
      "\n",
      "아무것도 출력 하지 않음\n",
      "\n",
      "확인\n"
     ]
    }
   ],
   "source": [
    "print(\"# 하나만 출력 \")\n",
    "print('Hello python Programming!!')\n",
    "print(\"'이러면 됩니다'\")\n",
    "\n",
    "# 여러 개를 출력\n",
    "print(10,20,\"test\")\n",
    "print()\n",
    "\n",
    "# 빈줄 출력\n",
    "print(\"아무것도 출력 하지 않음\")\n",
    "print()\n",
    "print(\"확인\")"
   ]
  },
  {
   "cell_type": "code",
   "execution_count": 8,
   "id": "31a1a066",
   "metadata": {},
   "outputs": [
    {
     "name": "stdout",
     "output_type": "stream",
     "text": [
      "문자 출력\n",
      "문자 \" 출력\n",
      "문자 \" 출 \\ '력 \" \n",
      "문자 \" \t 출 \n",
      "\\ '력 \"\n"
     ]
    }
   ],
   "source": [
    "# 문자열 출력\n",
    "print(\"문자 출력\")\n",
    "print(\"문자 \\\" 출력\") # \\ 다음에 오는 \"은 일반 문자로 인식\n",
    "print(\"문자 \\\" 출 \\ '력 \\\" \") # \\ 다음에 오는 와\" '은 일반 문자로 인식\n",
    "print(\"문자 \\\" \\t 출 \\n\\ '력 \\\"\") # \\t는 tab, \\n은 newline으로"
   ]
  },
  {
   "cell_type": "code",
   "execution_count": 9,
   "id": "645dbd53",
   "metadata": {},
   "outputs": [
    {
     "name": "stdout",
     "output_type": "stream",
     "text": [
      "이름\t나이\t지역\n",
      "윤인성\t25\t강서구\n"
     ]
    }
   ],
   "source": [
    "print(\"이름\\t나이\\t지역\")\n",
    "print(\"윤인성\\t25\\t강서구\")"
   ]
  },
  {
   "cell_type": "code",
   "execution_count": 14,
   "id": "f399b300",
   "metadata": {},
   "outputs": [
    {
     "name": "stdout",
     "output_type": "stream",
     "text": [
      "동해물과 백두산이\n",
      "마르고 닳도록\n",
      "하느님이 보우하사\n",
      "\n",
      "\n",
      "동해물과 백두산이 \n",
      "마르고 닳도록\n",
      "하느님이 보우하사\n",
      "\n",
      "-----------\n",
      "동해물과 백두산이\n",
      "마르고 닳도록\n",
      "하느님이 보우하사\n"
     ]
    }
   ],
   "source": [
    "# 여러 줄 출력 '''내용 입력'''\n",
    "print(\"동해물과 백두산이\\n마르고 닳도록\\n하느님이 보우하사\")\n",
    "print()\n",
    "print(\"\"\"\n",
    "동해물과 백두산이 \n",
    "마르고 닳도록\n",
    "하느님이 보우하사\n",
    "\"\"\")\n",
    "print('-----------')\n",
    "print(\"\"\"\\\n",
    "동해물과 백두산이\n",
    "마르고 닳도록\n",
    "하느님이 보우하사\\\n",
    "\"\"\")  #불필요한 처음과 끝 라인 제거"
   ]
  },
  {
   "cell_type": "code",
   "execution_count": 18,
   "id": "c225c4bd",
   "metadata": {},
   "outputs": [
    {
     "name": "stdout",
     "output_type": "stream",
     "text": [
      "hellotest\n",
      "hellohellohellohello\n",
      "hello1\n"
     ]
    }
   ],
   "source": [
    "# 문자열 연사 : 문자열+문자열,문자열*숫자(숫자*문자열)\n",
    "print('hello' + 'test')\n",
    "print('hello' *4)\n",
    "# print('hello'+1) #error\n",
    "print('hello'+ '1')"
   ]
  },
  {
   "cell_type": "code",
   "execution_count": 9,
   "id": "b61bfea8",
   "metadata": {},
   "outputs": [
    {
     "name": "stdout",
     "output_type": "stream",
     "text": [
      "안녕하세요\n",
      "안\n",
      "요\n",
      "안녕\n",
      "안녕\n",
      "하세요\n",
      "세\n",
      "5\n",
      "안녕하세\n"
     ]
    },
    {
     "data": {
      "text/plain": [
       "5"
      ]
     },
     "execution_count": 9,
     "metadata": {},
     "output_type": "execute_result"
    }
   ],
   "source": [
    "#문자열 선택 : 문자열[ ] => 인덱스 숫자, 인덱스는 0부터 시작\n",
    "print('안녕하세요')\n",
    "print('안녕세하요'[0]) #안\n",
    "print('안녕하세요'[-1]) #요, 마지막 글자 출력\n",
    "print('안녕하세요'[0:2]) #안녕, 0:2 => 0는 포함, 2는 포함하지 않는다\n",
    "print('안녕하세요'[ :2]) #처음부터 2 인덱스 앞까지\n",
    "print('안녕하세요'[2: ]) # 하세요\n",
    "print('안녕하세요'[-2]) #세\n",
    "# print('안녕하세요'[5]) #error, 인덱스 범위오류\n",
    "print(len('안녕하세요')) #문자열의 길이 구함 *********\n",
    "print('안녕하세요'[ : len('안녕하세요')-1]) #문자열의 길이 *******"
   ]
  },
  {
   "cell_type": "code",
   "execution_count": 12,
   "id": "4af37ad7",
   "metadata": {},
   "outputs": [
    {
     "name": "stdout",
     "output_type": "stream",
     "text": [
      "60\n",
      "4 / 3 = 1.3333333333333333\n",
      "4 // 3 = 1\n",
      "4 % 3 = 1\n",
      "4 ** 3 = 64\n"
     ]
    }
   ],
   "source": [
    "# 숫자 연산\n",
    "print(40+20)\n",
    "a = 4\n",
    "b = 3\n",
    "print(a,'/',b,'=',a/b) # 나눈 값 : float\n",
    "print(a,'//',b,'=',a//b) # 나눈 몫 : int\n",
    "print(a,'%',b,'=',a%b) # 나머지 : int\n",
    "print(a,'**',b,'=',a**b) # 거듭제곱 : int"
   ]
  },
  {
   "cell_type": "code",
   "execution_count": 42,
   "id": "0ba571d0",
   "metadata": {},
   "outputs": [
    {
     "name": "stdout",
     "output_type": "stream",
     "text": [
      "110\n",
      "str : hello!!\n",
      "str :  hello!!hello!!\n"
     ]
    }
   ],
   "source": [
    "# 복합 연산자\n",
    "a=10\n",
    "str1 = 'hello'\n",
    "a += 100\n",
    "print(a)\n",
    "str1 += '!!'\n",
    "print('str :',str1)\n",
    "str1 *= 2\n",
    "print('str : ',str1)"
   ]
  },
  {
   "cell_type": "code",
   "execution_count": 17,
   "id": "950b46f8",
   "metadata": {},
   "outputs": [
    {
     "name": "stdout",
     "output_type": "stream",
     "text": [
      "1 2 3\n",
      "1/2/3aa\n",
      "==/1/2/3\n"
     ]
    }
   ],
   "source": [
    "print(1,2,3)\n",
    "print(1,2,3, sep='/',end='aa\\n')\n",
    "\n",
    "print(\"==\", 1,2,3,sep='/',end='\\n')"
   ]
  },
  {
   "cell_type": "code",
   "execution_count": 26,
   "id": "ea8e03e3",
   "metadata": {},
   "outputs": [
    {
     "ename": "NameError",
     "evalue": "name 'str1' is not defined",
     "output_type": "error",
     "traceback": [
      "\u001b[1;31m---------------------------------------------------------------------------\u001b[0m",
      "\u001b[1;31mNameError\u001b[0m                                 Traceback (most recent call last)",
      "\u001b[1;32m~\\AppData\\Local\\Temp/ipykernel_10776/3060972232.py\u001b[0m in \u001b[0;36m<module>\u001b[1;34m\u001b[0m\n\u001b[1;32m----> 1\u001b[1;33m \u001b[0mlen\u001b[0m\u001b[1;33m(\u001b[0m\u001b[0mstr1\u001b[0m\u001b[1;33m)\u001b[0m\u001b[1;33m\u001b[0m\u001b[1;33m\u001b[0m\u001b[0m\n\u001b[0m",
      "\u001b[1;31mNameError\u001b[0m: name 'str1' is not defined"
     ]
    }
   ],
   "source": [
    "len(str1)"
   ]
  },
  {
   "cell_type": "code",
   "execution_count": 33,
   "id": "82c13a07",
   "metadata": {},
   "outputs": [
    {
     "name": "stdout",
     "output_type": "stream",
     "text": [
      "<class 'str'>\n",
      "1244\n",
      "<class 'str'>\n"
     ]
    }
   ],
   "source": [
    "print(type(input_data)) #input_data 의 타입 : str\n",
    "print(int(input_data)+10) #input_data의 타입을 int로 변환 int()\n",
    "print(type(input_data))"
   ]
  },
  {
   "cell_type": "code",
   "execution_count": 35,
   "id": "9fbc5acf",
   "metadata": {},
   "outputs": [
    {
     "name": "stdout",
     "output_type": "stream",
     "text": [
      "숫자입력 : 1234\n"
     ]
    }
   ],
   "source": [
    "# input() 함수 : 키보드에서 입력받는 함수\n",
    "input_data = input('숫자입력 : ')"
   ]
  },
  {
   "cell_type": "code",
   "execution_count": 60,
   "id": "f3e0c6d5",
   "metadata": {},
   "outputs": [
    {
     "name": "stdout",
     "output_type": "stream",
     "text": [
      "실수 입력 : 10\n",
      "<class 'float'>\n",
      "20.0 100.0\n"
     ]
    }
   ],
   "source": [
    "#문 : 키보드로부터 실수를 입력받아 실수형으로 변환하여\n",
    "#입력된 숫자에 10을 더한 값, 10+곱한 값을 출력하세요\n",
    "input_jy = float(input(\"실수 입력 : \"))\n",
    "print(type(input_jy))\n",
    "print(input_jy +10,input_jy *10)"
   ]
  },
  {
   "cell_type": "code",
   "execution_count": 40,
   "id": "ce046887",
   "metadata": {},
   "outputs": [
    {
     "name": "stdout",
     "output_type": "stream",
     "text": [
      "실수 입력 : 10\n",
      "<class 'str'>\n",
      "20.0 100.0\n"
     ]
    }
   ],
   "source": [
    "input_ja = input(\"실수 입력 : \")\n",
    "print(type(input_ja))\n",
    "print(float(input_ja) +10,float(input_ja)*10)"
   ]
  },
  {
   "cell_type": "code",
   "execution_count": 42,
   "id": "74c3de5b",
   "metadata": {},
   "outputs": [
    {
     "name": "stdout",
     "output_type": "stream",
     "text": [
      "1\n",
      "1.1\n",
      "1.1\n"
     ]
    }
   ],
   "source": [
    "a = 1.1\n",
    "a_1 = '1.1'\n",
    "\n",
    "print(int(1.1))\n",
    "print(float(a_1))\n",
    "\n",
    "print(str(a))"
   ]
  },
  {
   "cell_type": "code",
   "execution_count": 47,
   "id": "2a4f275a",
   "metadata": {},
   "outputs": [
    {
     "name": "stdout",
     "output_type": "stream",
     "text": [
      "<class 'str'>\n",
      "6기파이썬 인공지능 과정 !!\n",
      "6파이썬 인공지능 과정 시작일 2022-2-28 !!\n",
      "10+20=30\n",
      "10 20\n",
      "1 2 3\n"
     ]
    }
   ],
   "source": [
    "string = '파이썬 인공지능 과정 !!'\n",
    "print(type(string))\n",
    "\n",
    "# 문자열 관련 함수 : format()\n",
    "print('{}파이썬 인공지능 과정 !!'.format('6기'))\n",
    "print('{}파이썬 인공지능 과정 시작일 {} !!'.format(6, '2022-2-28'))\n",
    "\n",
    "a = 10\n",
    "b = 20\n",
    "print('{}+{}={}'.format(a,b, a+b))\n",
    "print('{} {}'.format(a,b, a+b))\n",
    "print('{} {} {}'.format(1,2,3,4))"
   ]
  },
  {
   "cell_type": "code",
   "execution_count": 53,
   "id": "29ea95d6",
   "metadata": {},
   "outputs": [
    {
     "name": "stdout",
     "output_type": "stream",
     "text": [
      "##52##\n",
      "##   52##\n",
      "##00052##\n",
      "##-0052##\n",
      "------------------------------------\n",
      "##+52##\n",
      "## 52##\n",
      "##-52##\n",
      "------------------------------------\n",
      "##  +52##\n",
      "##+  52##\n",
      "##-0052##\n"
     ]
    }
   ],
   "source": [
    "#숫자 편집\n",
    "print(\"##{:d}##\".format(52))\n",
    "print(\"##{:5d}##\".format(52))\n",
    "print(\"##{:05d}##\".format(52))\n",
    "print(\"##{:05d}##\".format(-52))\n",
    "print(\"------------------------------------\")\n",
    "# +기호 표시\n",
    "print(\"##{:+d}##\".format(52))\n",
    "print(\"##{: d}##\".format(52))\n",
    "print(\"##{: d}##\".format(-52))\n",
    "print(\"------------------------------------\")\n",
    "# +,- 기호표시\n",
    "print(\"##{:+5d}##\".format(52))\n",
    "print(\"##{:=+5d}##\".format(52))\n",
    "print(\"##{:+05d}##\".format(-52))"
   ]
  },
  {
   "cell_type": "code",
   "execution_count": 93,
   "id": "66214752",
   "metadata": {},
   "outputs": [
    {
     "name": "stdout",
     "output_type": "stream",
     "text": [
      "/ 안녕, hello, test /\n",
      "/안녕, hello, test/\n",
      "/안녕, hello, test /\n",
      "/ 안녕, hello, test/\n"
     ]
    },
    {
     "data": {
      "text/plain": [
       "'안녕, hello, test'"
      ]
     },
     "execution_count": 93,
     "metadata": {},
     "output_type": "execute_result"
    }
   ],
   "source": [
    "#문자열 관련 함수 strip() 공백제거 -> 문자열.strip()\n",
    "input_str = ' 안녕, hello, test '\n",
    "print(\"/{}/\".format(input_str))\n",
    "print(\"/{}/\".format(input_str.strip())) # 문자열 양쪽의 공백 제거\n",
    "print(\"/{}/\".format(input_str.lstrip()))\n",
    "print(\"/{}/\".format(input_str.rstrip()))\n",
    "input_str.strip()"
   ]
  },
  {
   "cell_type": "code",
   "execution_count": 97,
   "id": "3903e554",
   "metadata": {},
   "outputs": [
    {
     "name": "stdout",
     "output_type": "stream",
     "text": [
      "HELLO PYTHONPROGRAMMING !!\n",
      "hello pythonprogramming !!\n"
     ]
    },
    {
     "data": {
      "text/plain": [
       "'HELLO PYTHONPROGRAMMING !!'"
      ]
     },
     "execution_count": 97,
     "metadata": {},
     "output_type": "execute_result"
    }
   ],
   "source": [
    "#문자열 관련 함수 lower(), upper() => str.upper()\n",
    "str_1 = 'Hello PythonProgramming !!'\n",
    "print(str_1.upper())\n",
    "print(str_1.lower())\n",
    "str_u = str_1.upper()\n",
    "str_u"
   ]
  },
  {
   "cell_type": "code",
   "execution_count": 74,
   "id": "5d6e2321",
   "metadata": {},
   "outputs": [
    {
     "data": {
      "text/plain": [
       "True"
      ]
     },
     "execution_count": 74,
     "metadata": {},
     "output_type": "execute_result"
    }
   ],
   "source": [
    "#문자열의 구성 파악 : is00()\n",
    "# alnum() : 문장이 알파벳 또는 숫자로 구성되었는지 확인\n",
    "str_1 = 'Hello Python Programming !!'\n",
    "\n",
    "str_1.isalnum()\n",
    "'test12321'.isalnum()\n",
    "\n",
    "'10'.isdigit()\n",
    "str_u.isupper()"
   ]
  },
  {
   "cell_type": "code",
   "execution_count": 102,
   "id": "dd265d04",
   "metadata": {},
   "outputs": [
    {
     "name": "stdout",
     "output_type": "stream",
     "text": [
      "4\n",
      "21\n"
     ]
    }
   ],
   "source": [
    "#문자열에서 원하는 문자 검색 : find(), rfind()\n",
    "str_1 = 'hellohello python program'\n",
    "print(str_1.find('o')) #'o'가 제일 처음 나오는 위치 반환\n",
    "print(str_1.find('gram')) #'gram'가 뒤에서 처음 나오는 위치 반환"
   ]
  },
  {
   "cell_type": "code",
   "execution_count": 106,
   "id": "3c52f16e",
   "metadata": {},
   "outputs": [
    {
     "name": "stdout",
     "output_type": "stream",
     "text": [
      "True\n",
      "False\n"
     ]
    }
   ],
   "source": [
    "#문자열과 in 연산자 : 문자 in 문자열 = 문자열에 문자가 있는지 확인\n",
    "print('hello'in 'hello hello python program')\n",
    "print('hello1'in 'hello hello python program')"
   ]
  },
  {
   "cell_type": "code",
   "execution_count": 107,
   "id": "9ed87753",
   "metadata": {},
   "outputs": [
    {
     "name": "stdout",
     "output_type": "stream",
     "text": [
      "['hello', 'hello', 'python', 'program']\n"
     ]
    },
    {
     "data": {
      "text/plain": [
       "2"
      ]
     },
     "execution_count": 107,
     "metadata": {},
     "output_type": "execute_result"
    }
   ],
   "source": [
    "# 문자열 자르기 : split() => str.split(\" \")\n",
    "str_1 = 'hello hello python program'\n",
    "print(str_1.split())\n",
    "\n",
    "str_1.count('hello')"
   ]
  },
  {
   "cell_type": "code",
   "execution_count": 117,
   "id": "4f1ef1c4",
   "metadata": {},
   "outputs": [
    {
     "data": {
      "text/plain": [
       "'52'"
      ]
     },
     "execution_count": 117,
     "metadata": {},
     "output_type": "execute_result"
    }
   ],
   "source": [
    "# format(), upper(), lower(), strip(), split(), in 연산자\n",
    "# find(), rfind(), is00() : 확인\n",
    "'{}'.format(52,type(273))"
   ]
  },
  {
   "cell_type": "code",
   "execution_count": 122,
   "id": "be9937e5",
   "metadata": {},
   "outputs": [
    {
     "name": "stdout",
     "output_type": "stream",
     "text": [
      "> 1번째 숫자:100\n",
      "> 2번째 숫자:200\n",
      "\n",
      "100+200=300\n"
     ]
    }
   ],
   "source": [
    "a = input(\"> 1번째 숫자:\")\n",
    "b = input(\"> 2번째 숫자:\")\n",
    "print()\n",
    "\n",
    "print(\"{}+{}={}\".format(a,b,int(a)+int(b)))"
   ]
  },
  {
   "cell_type": "code",
   "execution_count": 138,
   "id": "8206dad3",
   "metadata": {},
   "outputs": [],
   "source": [
    "# 1. 키보드에서 정수를 입력받아  input_a 변수에 저장하세요\n",
    "# 2. 키보드에서 정수를 입력받아 input_b 변수에 저장하세요\n",
    "# 3. 두 변수의 합과 곱을  format()함수를 이용하여 출력하세요\n",
    "# 4. 키보드에서 문자열(공백 포함)을 입력받아 input_str에 저장하세요\n",
    "# 5. input_str에서 공백을 제거하고 출력 하세요\n",
    "# 6. input_str 을 공백을 기준으로 단어로 분리하세요\n",
    "# 7. input_str 을 input_a 수만큼 반복해서 출력하세요"
   ]
  },
  {
   "cell_type": "raw",
   "id": "796ac24e",
   "metadata": {},
   "source": [
    "input_a =input()\n",
    "input_b =input()\n",
    "print(\"{}+{}={}\".format(input_a,input_b,int(input_a)+int(input_b)),\n",
    "      \"{}*{}={}\".format(input_a,input_b,int(input_a)*int(input_b)))\n",
    "# input_str = '   안녕하세요    '\n",
    "input_str = input()\n",
    "print((input_str.strip()))\n",
    "print(input_str.split())\n",
    "print((input_str)*int(input_a))"
   ]
  },
  {
   "cell_type": "code",
   "execution_count": 146,
   "id": "64d36965",
   "metadata": {},
   "outputs": [
    {
     "name": "stdout",
     "output_type": "stream",
     "text": [
      "hihihi\n"
     ]
    }
   ],
   "source": [
    "input_str = 'hi'\n",
    "print((input_str)*3)"
   ]
  },
  {
   "cell_type": "code",
   "execution_count": null,
   "id": "3922b3f1",
   "metadata": {},
   "outputs": [],
   "source": []
  }
 ],
 "metadata": {
  "kernelspec": {
   "display_name": "Python 3 (ipykernel)",
   "language": "python",
   "name": "python3"
  },
  "language_info": {
   "codemirror_mode": {
    "name": "ipython",
    "version": 3
   },
   "file_extension": ".py",
   "mimetype": "text/x-python",
   "name": "python",
   "nbconvert_exporter": "python",
   "pygments_lexer": "ipython3",
   "version": "3.9.7"
  }
 },
 "nbformat": 4,
 "nbformat_minor": 5
}
